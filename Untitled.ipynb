{
 "cells": [
  {
   "cell_type": "code",
   "execution_count": 1,
   "metadata": {},
   "outputs": [],
   "source": [
    "from tqdm import tqdm_notebook as tqdm\n",
    "import math"
   ]
  },
  {
   "cell_type": "code",
   "execution_count": 2,
   "metadata": {},
   "outputs": [],
   "source": [
    "from PIL import Image\n",
    "\n",
    "try:\n",
    "    original = Image.open(\"Osbruhe.jpg\")\n",
    "except FileNotFoundError:\n",
    "    print(\"Файл не найден\")\n"
   ]
  },
  {
   "cell_type": "code",
   "execution_count": 3,
   "metadata": {},
   "outputs": [
    {
     "name": "stdout",
     "output_type": "stream",
     "text": [
      "\n"
     ]
    },
    {
     "data": {
      "application/vnd.jupyter.widget-view+json": {
       "model_id": "c66292bd063946e295cdb79bb97ef01e",
       "version_major": 2,
       "version_minor": 0
      },
      "text/plain": [
       "HBox(children=(HTML(value=''), FloatProgress(value=0.0, max=1000.0), HTML(value='')))"
      ]
     },
     "metadata": {},
     "output_type": "display_data"
    },
    {
     "name": "stdout",
     "output_type": "stream",
     "text": [
      "\n"
     ]
    }
   ],
   "source": [
    "def InvertFilter(image):\n",
    "    im=image\n",
    "    width, height = im.size\n",
    "    for x in tqdm(range(width)):\n",
    "        for y in range(height):\n",
    "            (r,g,b)=im.getpixel((x,y))\n",
    "            im.putpixel((x,y),((255-r),(255-g),(255-b)))\n",
    "    return im\n",
    "\n",
    "inverted=InvertFilter(original)\n",
    "inverted.save(\"inverted.jpg\")\n",
    "inverted.show()\n",
    "\n",
    "inverted2=InvertFilter(inverted)\n",
    "inverted2.save(\"inverted2.jpg\")\n",
    "inverted2.show()\n"
   ]
  },
  {
   "cell_type": "code",
   "execution_count": 4,
   "metadata": {},
   "outputs": [
    {
     "name": "stderr",
     "output_type": "stream",
     "text": [
      "<ipython-input-4-f134e37a3ad7>:4: TqdmDeprecationWarning: This function will be removed in tqdm==5.0.0\n",
      "Please use `tqdm.notebook.tqdm` instead of `tqdm.tqdm_notebook`\n",
      "  for x in tqdm(range(width)):\n"
     ]
    },
    {
     "data": {
      "application/vnd.jupyter.widget-view+json": {
       "model_id": "454fe9ac18b0496295e2f938bbeafbc7",
       "version_major": 2,
       "version_minor": 0
      },
      "text/plain": [
       "HBox(children=(HTML(value=''), FloatProgress(value=0.0, max=1000.0), HTML(value='')))"
      ]
     },
     "metadata": {},
     "output_type": "display_data"
    },
    {
     "name": "stdout",
     "output_type": "stream",
     "text": [
      "\n"
     ]
    }
   ],
   "source": [
    "def GrayScaleFilter(image):\n",
    "    im=image\n",
    "    width, height = im.size\n",
    "    for x in tqdm(range(width)):\n",
    "        for y in range(height):\n",
    "            (r,g,b)=im.getpixel((x,y))\n",
    "            intensity=int (0.299 * r + 0.587 * g + 0.114 * b)\n",
    "            im.putpixel((x,y),((intensity),(intensity),(intensity)))\n",
    "    return im\n",
    "original = Image.open(\"Osbruhe.jpg\")\n",
    "gray=GrayScaleFilter(original)\n",
    "gray.save(\"gray.jpg\")\n",
    "gray.show()\n"
   ]
  },
  {
   "cell_type": "code",
   "execution_count": 5,
   "metadata": {},
   "outputs": [
    {
     "name": "stderr",
     "output_type": "stream",
     "text": [
      "<ipython-input-5-f1900d116553>:12: TqdmDeprecationWarning: This function will be removed in tqdm==5.0.0\n",
      "Please use `tqdm.notebook.tqdm` instead of `tqdm.tqdm_notebook`\n",
      "  for x in tqdm(range(width)):\n"
     ]
    },
    {
     "data": {
      "application/vnd.jupyter.widget-view+json": {
       "model_id": "9a46e074218a43a2860b166a6388ef30",
       "version_major": 2,
       "version_minor": 0
      },
      "text/plain": [
       "HBox(children=(HTML(value=''), FloatProgress(value=0.0, max=1000.0), HTML(value='')))"
      ]
     },
     "metadata": {},
     "output_type": "display_data"
    },
    {
     "name": "stdout",
     "output_type": "stream",
     "text": [
      "\n"
     ]
    }
   ],
   "source": [
    "def Clamp(col, min, max):\n",
    "    if (col>max):\n",
    "        col=max\n",
    "    if col<min:\n",
    "        col=min\n",
    "    return col\n",
    "    \n",
    "\n",
    "def SepianFilter(image, k):\n",
    "    im=image\n",
    "    width, height = im.size\n",
    "    for x in tqdm(range(width)):\n",
    "        for y in range(height):\n",
    "            (r,g,b)=im.getpixel((x,y))\n",
    "            intensity=int (0.299 * r + 0.587 * g + 0.114 * b)\n",
    "            R=int(intensity+2)\n",
    "            G=int(intensity+k*0.5)\n",
    "            B=int(intensity-k)\n",
    "            im.putpixel((x,y),(Clamp(R,0,255), Clamp(G,0,255), Clamp(B,0,255)))\n",
    "    return im\n",
    "\n",
    "original = Image.open(\"Osbruhe.jpg\")\n",
    "sepian=SepianFilter(original, 10)\n",
    "sepian.save(\"sepian.jpg\")\n",
    "sepian.show()\n"
   ]
  },
  {
   "cell_type": "code",
   "execution_count": 6,
   "metadata": {},
   "outputs": [
    {
     "name": "stderr",
     "output_type": "stream",
     "text": [
      "<ipython-input-6-170a64dfdef9>:4: TqdmDeprecationWarning: This function will be removed in tqdm==5.0.0\n",
      "Please use `tqdm.notebook.tqdm` instead of `tqdm.tqdm_notebook`\n",
      "  for x in tqdm(range(width)):\n"
     ]
    },
    {
     "data": {
      "application/vnd.jupyter.widget-view+json": {
       "model_id": "179680ca787b4ebfb2535d60ce10c1c9",
       "version_major": 2,
       "version_minor": 0
      },
      "text/plain": [
       "HBox(children=(HTML(value=''), FloatProgress(value=0.0, max=1000.0), HTML(value='')))"
      ]
     },
     "metadata": {},
     "output_type": "display_data"
    },
    {
     "name": "stdout",
     "output_type": "stream",
     "text": [
      "\n"
     ]
    }
   ],
   "source": [
    "def BrightenFilter(image, k):\n",
    "    im=image\n",
    "    width, height = im.size\n",
    "    for x in tqdm(range(width)):\n",
    "        for y in range(height):\n",
    "            (r,g,b)=im.getpixel((x,y))\n",
    "            im.putpixel((x,y),(Clamp(r+k,0,255), Clamp(g+k,0,255), Clamp(b+k,0,255)))\n",
    "    return im\n",
    "\n",
    "original = Image.open(\"Osbruhe.jpg\")\n",
    "bright=BrightenFilter(original, 50)\n",
    "bright.save(\"bright.jpg\")\n",
    "bright.show()\n"
   ]
  },
  {
   "cell_type": "code",
   "execution_count": 7,
   "metadata": {},
   "outputs": [
    {
     "name": "stderr",
     "output_type": "stream",
     "text": [
      "<ipython-input-7-9db6dd8eddac>:5: TqdmDeprecationWarning: This function will be removed in tqdm==5.0.0\n",
      "Please use `tqdm.notebook.tqdm` instead of `tqdm.tqdm_notebook`\n",
      "  for x in tqdm(range(width)):\n"
     ]
    },
    {
     "data": {
      "application/vnd.jupyter.widget-view+json": {
       "model_id": "7f5702cd4dce4a809294cc96151f2702",
       "version_major": 2,
       "version_minor": 0
      },
      "text/plain": [
       "HBox(children=(HTML(value=''), FloatProgress(value=0.0, max=1000.0), HTML(value='')))"
      ]
     },
     "metadata": {},
     "output_type": "display_data"
    },
    {
     "name": "stdout",
     "output_type": "stream",
     "text": [
      "\n"
     ]
    },
    {
     "name": "stderr",
     "output_type": "stream",
     "text": [
      "<ipython-input-7-9db6dd8eddac>:18: TqdmDeprecationWarning: This function will be removed in tqdm==5.0.0\n",
      "Please use `tqdm.notebook.tqdm` instead of `tqdm.tqdm_notebook`\n",
      "  for x in tqdm(range(width)):\n"
     ]
    },
    {
     "data": {
      "application/vnd.jupyter.widget-view+json": {
       "model_id": "f56554136bc744b4a36e8d2da6832567",
       "version_major": 2,
       "version_minor": 0
      },
      "text/plain": [
       "HBox(children=(HTML(value=''), FloatProgress(value=0.0, max=1000.0), HTML(value='')))"
      ]
     },
     "metadata": {},
     "output_type": "display_data"
    },
    {
     "name": "stdout",
     "output_type": "stream",
     "text": [
      "\n"
     ]
    }
   ],
   "source": [
    "def GreyWorld(image):\n",
    "    im=image\n",
    "    width, height = im.size\n",
    "    (Rsum,Gsum,Bsum)=(0,0,0)\n",
    "    for x in tqdm(range(width)):\n",
    "        for y in range(height):\n",
    "            (r,g,b)=im.getpixel((x,y))\n",
    "            Rsum+=r\n",
    "            Gsum+=g\n",
    "            Bsum+=b\n",
    "    R_=Rsum/(width * height)\n",
    "    G_=Gsum/(width * height)\n",
    "    B_=Bsum/(width * height)\n",
    "    Avg = (R_+B_+G_)/3\n",
    "    Rf=Avg/R_\n",
    "    Gf=Avg/G_\n",
    "    Bf=Avg/B_\n",
    "    for x in tqdm(range(width)):\n",
    "        for y in range(height):\n",
    "            (r,g,b)=im.getpixel((x,y))\n",
    "            im.putpixel((x,y),(int(r*Rf),int(g*Gf),int(b*Bf)))\n",
    "    return im\n",
    "  \n",
    "original = Image.open(\"Osbruhe.jpg\") #CHANGE TO ANOTHER IMAGE\n",
    "gw=GreyWorld(original)\n",
    "gw.save(\"GreyWorld.jpg\")\n",
    "gw.show()"
   ]
  },
  {
   "cell_type": "code",
   "execution_count": 8,
   "metadata": {},
   "outputs": [
    {
     "name": "stderr",
     "output_type": "stream",
     "text": [
      "<ipython-input-8-284cd6ec283c>:6: TqdmDeprecationWarning: This function will be removed in tqdm==5.0.0\n",
      "Please use `tqdm.notebook.tqdm` instead of `tqdm.tqdm_notebook`\n",
      "  for x in tqdm(range(width)):\n"
     ]
    },
    {
     "data": {
      "application/vnd.jupyter.widget-view+json": {
       "model_id": "f42cf8096c6948798123fa83af4e74f6",
       "version_major": 2,
       "version_minor": 0
      },
      "text/plain": [
       "HBox(children=(HTML(value=''), FloatProgress(value=0.0, max=1000.0), HTML(value='')))"
      ]
     },
     "metadata": {},
     "output_type": "display_data"
    },
    {
     "name": "stdout",
     "output_type": "stream",
     "text": [
      "\n"
     ]
    },
    {
     "name": "stderr",
     "output_type": "stream",
     "text": [
      "<ipython-input-8-284cd6ec283c>:18: TqdmDeprecationWarning: This function will be removed in tqdm==5.0.0\n",
      "Please use `tqdm.notebook.tqdm` instead of `tqdm.tqdm_notebook`\n",
      "  for x in tqdm(range(width)):\n"
     ]
    },
    {
     "data": {
      "application/vnd.jupyter.widget-view+json": {
       "model_id": "b5115757ebc4405da16a7560fee576ac",
       "version_major": 2,
       "version_minor": 0
      },
      "text/plain": [
       "HBox(children=(HTML(value=''), FloatProgress(value=0.0, max=1000.0), HTML(value='')))"
      ]
     },
     "metadata": {},
     "output_type": "display_data"
    },
    {
     "name": "stdout",
     "output_type": "stream",
     "text": [
      "\n"
     ]
    }
   ],
   "source": [
    "def LinearExtention(image):\n",
    "    im=image\n",
    "    width, height = im.size\n",
    "    (Rmax,Gmax,Bmax)=(0,0,0)\n",
    "    (Rmin,Gmin,Bmin)=(255,255,255)\n",
    "    for x in tqdm(range(width)):\n",
    "        for y in range(height):\n",
    "            (r,g,b)=im.getpixel((x,y))\n",
    "            Rmax=max(Rmax, r)\n",
    "            Rmin=min(Rmin, r)\n",
    "            Gmax=max(Gmax, g)\n",
    "            Gmin=min(Gmin, g)\n",
    "            Bmax=max(Bmax, b)\n",
    "            Bmin=min(Bmin, b)\n",
    "    Rf=255/(Rmax-Rmin)\n",
    "    Gf=255/(Gmax-Gmin)\n",
    "    Bf=255/(Bmax-Bmin)\n",
    "    for x in tqdm(range(width)):\n",
    "        for y in range(height):\n",
    "            (r,g,b)=im.getpixel((x,y))\n",
    "            im.putpixel((x,y),(int((r-Rmin)*Rf),int((g-Gmin)*Gf),int((b-Bmin)*Bf)))\n",
    "            \n",
    "    return im\n",
    "\n",
    "original = Image.open(\"Osbruhe.jpg\") #CHANGE TO ANOTHER IMAGE\n",
    "le=LinearExtention(original)\n",
    "le.save(\"LinearExtention.jpg\")\n",
    "le.show()"
   ]
  },
  {
   "cell_type": "code",
   "execution_count": 9,
   "metadata": {},
   "outputs": [
    {
     "name": "stderr",
     "output_type": "stream",
     "text": [
      "<ipython-input-8-284cd6ec283c>:6: TqdmDeprecationWarning: This function will be removed in tqdm==5.0.0\n",
      "Please use `tqdm.notebook.tqdm` instead of `tqdm.tqdm_notebook`\n",
      "  for x in tqdm(range(width)):\n"
     ]
    },
    {
     "data": {
      "application/vnd.jupyter.widget-view+json": {
       "model_id": "1cab7deb52b542139e2f06f4aa16452c",
       "version_major": 2,
       "version_minor": 0
      },
      "text/plain": [
       "HBox(children=(HTML(value=''), FloatProgress(value=0.0, max=1000.0), HTML(value='')))"
      ]
     },
     "metadata": {},
     "output_type": "display_data"
    },
    {
     "name": "stdout",
     "output_type": "stream",
     "text": [
      "\n"
     ]
    },
    {
     "name": "stderr",
     "output_type": "stream",
     "text": [
      "<ipython-input-8-284cd6ec283c>:18: TqdmDeprecationWarning: This function will be removed in tqdm==5.0.0\n",
      "Please use `tqdm.notebook.tqdm` instead of `tqdm.tqdm_notebook`\n",
      "  for x in tqdm(range(width)):\n"
     ]
    },
    {
     "data": {
      "application/vnd.jupyter.widget-view+json": {
       "model_id": "a4139742b35e4266bfc127e1f11816bb",
       "version_major": 2,
       "version_minor": 0
      },
      "text/plain": [
       "HBox(children=(HTML(value=''), FloatProgress(value=0.0, max=1000.0), HTML(value='')))"
      ]
     },
     "metadata": {},
     "output_type": "display_data"
    },
    {
     "name": "stdout",
     "output_type": "stream",
     "text": [
      "\n"
     ]
    }
   ],
   "source": [
    "def IdealReflection(image):\n",
    "    im=image\n",
    "    width, height = im.size\n",
    "    (Rmax,Gmax,Bmax)=(0,0,0)\n",
    "    (Rmin,Gmin,Bmin)=(255,255,255)\n",
    "    for x in tqdm(range(width)):\n",
    "        for y in range(height):\n",
    "            (r,g,b)=im.getpixel((x,y))\n",
    "            Rmax=max(Rmax, r)\n",
    "            Gmax=max(Gmax, g)\n",
    "            Bmax=max(Bmax, b)\n",
    "    Rf=255/(Rmax)\n",
    "    Gf=255/(Gmax)\n",
    "    Bf=255/(Bmax)\n",
    "    for x in tqdm(range(width)):\n",
    "        for y in range(height):\n",
    "            (r,g,b)=im.getpixel((x,y))\n",
    "            im.putpixel((x,y),(int(r*Rf),int(g*Gf),int(b*Bf)))  \n",
    "    return im\n",
    "\n",
    "original = Image.open(\"Osbruhe.jpg\") #CHANGE TO ANOTHER IMAGE\n",
    "ir=LinearExtention(original)\n",
    "ir.save(\"IdealReflection.jpg\")\n",
    "ir.show()"
   ]
  },
  {
   "cell_type": "code",
   "execution_count": 10,
   "metadata": {},
   "outputs": [
    {
     "name": "stderr",
     "output_type": "stream",
     "text": [
      "<ipython-input-10-bbd50c3cbe99>:8: TqdmDeprecationWarning: This function will be removed in tqdm==5.0.0\n",
      "Please use `tqdm.notebook.tqdm` instead of `tqdm.tqdm_notebook`\n",
      "  for x in tqdm(range(edgex, width-edgex)):\n"
     ]
    },
    {
     "data": {
      "application/vnd.jupyter.widget-view+json": {
       "model_id": "57481361fdfe465ca0f0474f33e489e6",
       "version_major": 2,
       "version_minor": 0
      },
      "text/plain": [
       "HBox(children=(HTML(value=''), FloatProgress(value=0.0, max=254.0), HTML(value='')))"
      ]
     },
     "metadata": {},
     "output_type": "display_data"
    },
    {
     "name": "stdout",
     "output_type": "stream",
     "text": [
      "\n"
     ]
    }
   ],
   "source": [
    "def MedianFilter(image, wwidth, wheight):\n",
    "    im=image\n",
    "    width, height = im.size\n",
    "    edgex, edgey = wwidth//2, wheight//2\n",
    "    rw=([[0]*wwidth for i in range(wheight)])\n",
    "    gw=([[0]*wwidth for i in range(wheight)])\n",
    "    bw=([[0]*wwidth for i in range(wheight)])\n",
    "    for x in tqdm(range(edgex, width-edgex)):\n",
    "        for y in range(edgey, height-edgey):\n",
    "            for fx in range(0,wwidth):\n",
    "                for fy in range(0,wheight):\n",
    "                    #print(x+fx-edgex,y+fy-edgey)\n",
    "                    (r,g,b)=image.getpixel((x+fx-edgex,y+fy-edgey))\n",
    "                    rw[fx][fy],gw[fx][fy],bw[fx][fy]= r, g, b\n",
    "                    #rw[i]=r\n",
    "            #print(rw)\n",
    "            for i in range (wwidth):\n",
    "                rw[i].sort()\n",
    "                bw[i].sort()\n",
    "                gw[i].sort()\n",
    "            im.putpixel((x,y),(rw[wwidth//2][wheight//2], gw[wwidth//2][wheight//2], bw[wwidth//2][wheight//2]))\n",
    "    return im\n",
    "\n",
    "original = Image.open(\"salt_pepper_noise.jpg\")\n",
    "mf=MedianFilter(original, 3, 3)\n",
    "mf.save(\"MedianFilter_spn.jpg\")\n",
    "mf.show()\n"
   ]
  },
  {
   "cell_type": "code",
   "execution_count": 11,
   "metadata": {},
   "outputs": [],
   "source": [
    "def MatrixFilter(image, kernel):\n",
    "    radiusX, radiusY = len(kernel[0])//2, len(kernel[1])//2\n",
    "    im=image\n",
    "    width, height = im.size\n",
    "    for x in tqdm(range(width)):\n",
    "        for y in range(height):\n",
    "            R,G,B=0.0,0.0,0.0\n",
    "            for l in range(-radiusY, radiusY+1):\n",
    "                for k in range(-radiusX, radiusX+1):\n",
    "                    idX=Clamp(x+k, 0, width-1)\n",
    "                    idY=Clamp(y+l, 0, height-1)\n",
    "                    (r,g,b)=image.getpixel((idX,idY))\n",
    "                    R+=r*kernel[k+radiusX][l+radiusY]\n",
    "                    G+=g*kernel[k+radiusX][l+radiusY]\n",
    "                    B+=b*kernel[k+radiusX][l+radiusY]\n",
    "            R,G,B=Clamp(R,0,255),Clamp(G,0,255),Clamp(B,0,255)\n",
    "            #print(im.getpixel((x,y)))\n",
    "            #print((int(R),int(G),int(B)))\n",
    "            #print()\n",
    "            im.putpixel((x,y),(int(R),int(G),int(B)))\n",
    "    return im"
   ]
  },
  {
   "cell_type": "code",
   "execution_count": 12,
   "metadata": {},
   "outputs": [
    {
     "name": "stderr",
     "output_type": "stream",
     "text": [
      "<ipython-input-11-96bc090ca899>:5: TqdmDeprecationWarning: This function will be removed in tqdm==5.0.0\n",
      "Please use `tqdm.notebook.tqdm` instead of `tqdm.tqdm_notebook`\n",
      "  for x in tqdm(range(width)):\n"
     ]
    },
    {
     "data": {
      "application/vnd.jupyter.widget-view+json": {
       "model_id": "e7d3327b1d2640ba8d3f88257d07570d",
       "version_major": 2,
       "version_minor": 0
      },
      "text/plain": [
       "HBox(children=(HTML(value=''), FloatProgress(value=0.0, max=1000.0), HTML(value='')))"
      ]
     },
     "metadata": {},
     "output_type": "display_data"
    },
    {
     "name": "stdout",
     "output_type": "stream",
     "text": [
      "\n"
     ]
    }
   ],
   "source": [
    "Sharp_kernel=[[-1,-1, -1],[-1, 9, -1],[-1, -1, -1]]\n",
    "original = Image.open(\"Osbruhe.jpg\") #CHANGE TO ANOTHER IMAGE\n",
    "sharp=MatrixFilter(original, Sharp_kernel)\n",
    "sharp.save(\"SharperOsbruhe.jpg\")\n",
    "sharp.show()"
   ]
  },
  {
   "cell_type": "code",
   "execution_count": null,
   "metadata": {},
   "outputs": [
    {
     "name": "stdout",
     "output_type": "stream",
     "text": [
      "[[0.09090909090909091, 0, 0, 0, 0, 0, 0, 0, 0, 0, 0], [0, 0.09090909090909091, 0, 0, 0, 0, 0, 0, 0, 0, 0], [0, 0, 0.09090909090909091, 0, 0, 0, 0, 0, 0, 0, 0], [0, 0, 0, 0.09090909090909091, 0, 0, 0, 0, 0, 0, 0], [0, 0, 0, 0, 0.09090909090909091, 0, 0, 0, 0, 0, 0], [0, 0, 0, 0, 0, 0.09090909090909091, 0, 0, 0, 0, 0], [0, 0, 0, 0, 0, 0, 0.09090909090909091, 0, 0, 0, 0], [0, 0, 0, 0, 0, 0, 0, 0.09090909090909091, 0, 0, 0], [0, 0, 0, 0, 0, 0, 0, 0, 0.09090909090909091, 0, 0], [0, 0, 0, 0, 0, 0, 0, 0, 0, 0.09090909090909091, 0], [0, 0, 0, 0, 0, 0, 0, 0, 0, 0, 0.09090909090909091]]\n"
     ]
    },
    {
     "name": "stderr",
     "output_type": "stream",
     "text": [
      "<ipython-input-11-96bc090ca899>:5: TqdmDeprecationWarning: This function will be removed in tqdm==5.0.0\n",
      "Please use `tqdm.notebook.tqdm` instead of `tqdm.tqdm_notebook`\n",
      "  for x in tqdm(range(width)):\n"
     ]
    },
    {
     "data": {
      "application/vnd.jupyter.widget-view+json": {
       "model_id": "d2324d305388492dbef9942d8e3ed425",
       "version_major": 2,
       "version_minor": 0
      },
      "text/plain": [
       "HBox(children=(HTML(value=''), FloatProgress(value=0.0, max=512.0), HTML(value='')))"
      ]
     },
     "metadata": {},
     "output_type": "display_data"
    }
   ],
   "source": [
    "size=11\n",
    "Blur_kernel=[[0]*size for i in range(size)]\n",
    "\n",
    "for i in range(size):\n",
    "    for j in range(size):\n",
    "        Blur_kernel[i][i]=1/size\n",
    "\n",
    "print(Blur_kernel)\n",
    "\n",
    "original = Image.open(\"lena.jpg\") #CHANGE TO ANOTHER IMAGE\n",
    "Blur=MatrixFilter(original, Blur_kernel)\n",
    "Blur.save(\"Bluredlena.jpg\")\n",
    "Blur.show()"
   ]
  },
  {
   "cell_type": "code",
   "execution_count": null,
   "metadata": {},
   "outputs": [],
   "source": [
    "def Gauss_Kernel(radius: int, sigma: float):\n",
    "    size = 2*radius+1\n",
    "    kernel=[[0]*size for i in range(size)]\n",
    "    norm=0\n",
    "    for i in range(-radius,radius+1):\n",
    "        for j in range(-radius,radius+1):\n",
    "            kernel[i+radius][j+radius]=math.exp(-(i*i+j*j)/(2*sigma*sigma))\n",
    "            norm+=kernel[i+radius][j+radius]\n",
    "    for i in range(size):\n",
    "        for j in range(size):\n",
    "            kernel[i][j]/=norm\n",
    "    return kernel\n",
    "\n",
    "original = Image.open(\"lena.jpg\") #CHANGE TO ANOTHER IMAGE\n",
    "gauss=MatrixFilter(original, Gauss_Kernel(3,5))\n",
    "gauss.save(\"Gausslena.jpg\")\n",
    "gauss.show()"
   ]
  },
  {
   "cell_type": "code",
   "execution_count": null,
   "metadata": {},
   "outputs": [],
   "source": []
  }
 ],
 "metadata": {
  "kernelspec": {
   "display_name": "Python 3",
   "language": "python",
   "name": "python3"
  },
  "language_info": {
   "codemirror_mode": {
    "name": "ipython",
    "version": 3
   },
   "file_extension": ".py",
   "mimetype": "text/x-python",
   "name": "python",
   "nbconvert_exporter": "python",
   "pygments_lexer": "ipython3",
   "version": "3.8.5"
  }
 },
 "nbformat": 4,
 "nbformat_minor": 4
}
