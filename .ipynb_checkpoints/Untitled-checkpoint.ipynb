{
 "cells": [
  {
   "cell_type": "code",
   "execution_count": 1,
   "metadata": {},
   "outputs": [],
   "source": [
    "from tqdm import tqdm_notebook as tqdm\n",
    "import math"
   ]
  },
  {
   "cell_type": "code",
   "execution_count": 2,
   "metadata": {},
   "outputs": [],
   "source": [
    "from PIL import Image\n",
    "\n",
    "try:\n",
    "    original = Image.open(\"Osbruhe.jpg\")\n",
    "except FileNotFoundError:\n",
    "    print(\"Файл не найден\")\n"
   ]
  },
  {
   "cell_type": "code",
   "execution_count": 3,
   "metadata": {},
   "outputs": [
    {
     "name": "stderr",
     "output_type": "stream",
     "text": [
      "<ipython-input-3-7be15a605d60>:4: TqdmDeprecationWarning: This function will be removed in tqdm==5.0.0\n",
      "Please use `tqdm.notebook.tqdm` instead of `tqdm.tqdm_notebook`\n",
      "  for x in tqdm(range(width)):\n"
     ]
    },
    {
     "data": {
      "application/vnd.jupyter.widget-view+json": {
       "model_id": "85c5314560284b9397512bcba4ed81ba",
       "version_major": 2,
       "version_minor": 0
      },
      "text/plain": [
       "HBox(children=(HTML(value=''), FloatProgress(value=0.0, max=1000.0), HTML(value='')))"
      ]
     },
     "metadata": {},
     "output_type": "display_data"
    },
    {
     "name": "stdout",
     "output_type": "stream",
     "text": [
      "\n"
     ]
    },
    {
     "data": {
      "application/vnd.jupyter.widget-view+json": {
       "model_id": "7a8b6022b29b471fad9ab507b3191eb4",
       "version_major": 2,
       "version_minor": 0
      },
      "text/plain": [
       "HBox(children=(HTML(value=''), FloatProgress(value=0.0, max=1000.0), HTML(value='')))"
      ]
     },
     "metadata": {},
     "output_type": "display_data"
    },
    {
     "name": "stdout",
     "output_type": "stream",
     "text": [
      "\n"
     ]
    }
   ],
   "source": [
    "def InvertFilter(image):\n",
    "    im=image\n",
    "    width, height = im.size\n",
    "    for x in tqdm(range(width)):\n",
    "        for y in range(height):\n",
    "            (r,g,b)=im.getpixel((x,y))\n",
    "            im.putpixel((x,y),((255-r),(255-g),(255-b)))\n",
    "    return im\n",
    "\n",
    "inverted=InvertFilter(original)\n",
    "inverted.save(\"inverted.jpg\")\n",
    "inverted.show()\n",
    "\n",
    "inverted2=InvertFilter(inverted)\n",
    "inverted2.save(\"inverted2.jpg\")\n",
    "inverted2.show()\n"
   ]
  },
  {
   "cell_type": "code",
   "execution_count": 4,
   "metadata": {},
   "outputs": [
    {
     "name": "stderr",
     "output_type": "stream",
     "text": [
      "<ipython-input-4-f134e37a3ad7>:4: TqdmDeprecationWarning: This function will be removed in tqdm==5.0.0\n",
      "Please use `tqdm.notebook.tqdm` instead of `tqdm.tqdm_notebook`\n",
      "  for x in tqdm(range(width)):\n"
     ]
    },
    {
     "data": {
      "application/vnd.jupyter.widget-view+json": {
       "model_id": "0e7172053b5a4344bfde46b038601de3",
       "version_major": 2,
       "version_minor": 0
      },
      "text/plain": [
       "HBox(children=(HTML(value=''), FloatProgress(value=0.0, max=1000.0), HTML(value='')))"
      ]
     },
     "metadata": {},
     "output_type": "display_data"
    },
    {
     "name": "stdout",
     "output_type": "stream",
     "text": [
      "\n"
     ]
    }
   ],
   "source": [
    "def GrayScaleFilter(image):\n",
    "    im=image\n",
    "    width, height = im.size\n",
    "    for x in tqdm(range(width)):\n",
    "        for y in range(height):\n",
    "            (r,g,b)=im.getpixel((x,y))\n",
    "            intensity=int (0.299 * r + 0.587 * g + 0.114 * b)\n",
    "            im.putpixel((x,y),((intensity),(intensity),(intensity)))\n",
    "    return im\n",
    "original = Image.open(\"Osbruhe.jpg\")\n",
    "gray=GrayScaleFilter(original)\n",
    "gray.save(\"gray.jpg\")\n",
    "gray.show()\n"
   ]
  },
  {
   "cell_type": "code",
   "execution_count": 5,
   "metadata": {},
   "outputs": [
    {
     "name": "stderr",
     "output_type": "stream",
     "text": [
      "<ipython-input-5-f0086543801a>:12: TqdmDeprecationWarning: This function will be removed in tqdm==5.0.0\n",
      "Please use `tqdm.notebook.tqdm` instead of `tqdm.tqdm_notebook`\n",
      "  for x in tqdm(range(width)):\n"
     ]
    },
    {
     "data": {
      "application/vnd.jupyter.widget-view+json": {
       "model_id": "f18defdd151e44fe8e56cdd6a34c22bf",
       "version_major": 2,
       "version_minor": 0
      },
      "text/plain": [
       "HBox(children=(HTML(value=''), FloatProgress(value=0.0, max=1000.0), HTML(value='')))"
      ]
     },
     "metadata": {},
     "output_type": "display_data"
    },
    {
     "name": "stdout",
     "output_type": "stream",
     "text": [
      "\n"
     ]
    }
   ],
   "source": [
    "def Clamp(col, min, max) -> int:\n",
    "    if (col>max):\n",
    "        col=max\n",
    "    if col<min:\n",
    "        col=min\n",
    "    return col\n",
    "    \n",
    "\n",
    "def SepianFilter(image, k):\n",
    "    im=image\n",
    "    width, height = im.size\n",
    "    for x in tqdm(range(width)):\n",
    "        for y in range(height):\n",
    "            (r,g,b)=im.getpixel((x,y))\n",
    "            intensity=int (0.299 * r + 0.587 * g + 0.114 * b)\n",
    "            R=int(intensity+2)\n",
    "            G=int(intensity+k*0.5)\n",
    "            B=int(intensity-k)\n",
    "            im.putpixel((x,y),(Clamp(R,0,255), Clamp(G,0,255), Clamp(B,0,255)))\n",
    "    return im\n",
    "\n",
    "original = Image.open(\"Osbruhe.jpg\")\n",
    "sepian=SepianFilter(original, 10)\n",
    "sepian.save(\"sepian.jpg\")\n",
    "sepian.show()\n"
   ]
  },
  {
   "cell_type": "code",
   "execution_count": 6,
   "metadata": {},
   "outputs": [
    {
     "name": "stderr",
     "output_type": "stream",
     "text": [
      "<ipython-input-6-170a64dfdef9>:4: TqdmDeprecationWarning: This function will be removed in tqdm==5.0.0\n",
      "Please use `tqdm.notebook.tqdm` instead of `tqdm.tqdm_notebook`\n",
      "  for x in tqdm(range(width)):\n"
     ]
    },
    {
     "data": {
      "application/vnd.jupyter.widget-view+json": {
       "model_id": "f215ea46b1ba4fad890d1fd93996625f",
       "version_major": 2,
       "version_minor": 0
      },
      "text/plain": [
       "HBox(children=(HTML(value=''), FloatProgress(value=0.0, max=1000.0), HTML(value='')))"
      ]
     },
     "metadata": {},
     "output_type": "display_data"
    },
    {
     "name": "stdout",
     "output_type": "stream",
     "text": [
      "\n"
     ]
    }
   ],
   "source": [
    "def BrightenFilter(image, k):\n",
    "    im=image\n",
    "    width, height = im.size\n",
    "    for x in tqdm(range(width)):\n",
    "        for y in range(height):\n",
    "            (r,g,b)=im.getpixel((x,y))\n",
    "            im.putpixel((x,y),(Clamp(r+k,0,255), Clamp(g+k,0,255), Clamp(b+k,0,255)))\n",
    "    return im\n",
    "\n",
    "original = Image.open(\"Osbruhe.jpg\")\n",
    "bright=BrightenFilter(original, 50)\n",
    "bright.save(\"bright.jpg\")\n",
    "bright.show()\n"
   ]
  },
  {
   "cell_type": "code",
   "execution_count": 7,
   "metadata": {},
   "outputs": [
    {
     "name": "stderr",
     "output_type": "stream",
     "text": [
      "<ipython-input-7-9db6dd8eddac>:5: TqdmDeprecationWarning: This function will be removed in tqdm==5.0.0\n",
      "Please use `tqdm.notebook.tqdm` instead of `tqdm.tqdm_notebook`\n",
      "  for x in tqdm(range(width)):\n"
     ]
    },
    {
     "data": {
      "application/vnd.jupyter.widget-view+json": {
       "model_id": "fcc7c689858f48a59d7e4ad65cf7571f",
       "version_major": 2,
       "version_minor": 0
      },
      "text/plain": [
       "HBox(children=(HTML(value=''), FloatProgress(value=0.0, max=1000.0), HTML(value='')))"
      ]
     },
     "metadata": {},
     "output_type": "display_data"
    },
    {
     "name": "stdout",
     "output_type": "stream",
     "text": [
      "\n"
     ]
    },
    {
     "name": "stderr",
     "output_type": "stream",
     "text": [
      "<ipython-input-7-9db6dd8eddac>:18: TqdmDeprecationWarning: This function will be removed in tqdm==5.0.0\n",
      "Please use `tqdm.notebook.tqdm` instead of `tqdm.tqdm_notebook`\n",
      "  for x in tqdm(range(width)):\n"
     ]
    },
    {
     "data": {
      "application/vnd.jupyter.widget-view+json": {
       "model_id": "06eda6ff601b459d9a1eb4302a6f550b",
       "version_major": 2,
       "version_minor": 0
      },
      "text/plain": [
       "HBox(children=(HTML(value=''), FloatProgress(value=0.0, max=1000.0), HTML(value='')))"
      ]
     },
     "metadata": {},
     "output_type": "display_data"
    },
    {
     "name": "stdout",
     "output_type": "stream",
     "text": [
      "\n"
     ]
    }
   ],
   "source": [
    "def GreyWorld(image):\n",
    "    im=image\n",
    "    width, height = im.size\n",
    "    (Rsum,Gsum,Bsum)=(0,0,0)\n",
    "    for x in tqdm(range(width)):\n",
    "        for y in range(height):\n",
    "            (r,g,b)=im.getpixel((x,y))\n",
    "            Rsum+=r\n",
    "            Gsum+=g\n",
    "            Bsum+=b\n",
    "    R_=Rsum/(width * height)\n",
    "    G_=Gsum/(width * height)\n",
    "    B_=Bsum/(width * height)\n",
    "    Avg = (R_+B_+G_)/3\n",
    "    Rf=Avg/R_\n",
    "    Gf=Avg/G_\n",
    "    Bf=Avg/B_\n",
    "    for x in tqdm(range(width)):\n",
    "        for y in range(height):\n",
    "            (r,g,b)=im.getpixel((x,y))\n",
    "            im.putpixel((x,y),(int(r*Rf),int(g*Gf),int(b*Bf)))\n",
    "    return im\n",
    "  \n",
    "original = Image.open(\"Osbruhe.jpg\") #CHANGE TO ANOTHER IMAGE\n",
    "gw=GreyWorld(original)\n",
    "gw.save(\"GreyWorld.jpg\")\n",
    "gw.show()"
   ]
  },
  {
   "cell_type": "code",
   "execution_count": 8,
   "metadata": {},
   "outputs": [
    {
     "name": "stderr",
     "output_type": "stream",
     "text": [
      "<ipython-input-8-284cd6ec283c>:6: TqdmDeprecationWarning: This function will be removed in tqdm==5.0.0\n",
      "Please use `tqdm.notebook.tqdm` instead of `tqdm.tqdm_notebook`\n",
      "  for x in tqdm(range(width)):\n"
     ]
    },
    {
     "data": {
      "application/vnd.jupyter.widget-view+json": {
       "model_id": "ef177a65b6444345a428ba8901d0a5bd",
       "version_major": 2,
       "version_minor": 0
      },
      "text/plain": [
       "HBox(children=(HTML(value=''), FloatProgress(value=0.0, max=1000.0), HTML(value='')))"
      ]
     },
     "metadata": {},
     "output_type": "display_data"
    },
    {
     "name": "stdout",
     "output_type": "stream",
     "text": [
      "\n"
     ]
    },
    {
     "name": "stderr",
     "output_type": "stream",
     "text": [
      "<ipython-input-8-284cd6ec283c>:18: TqdmDeprecationWarning: This function will be removed in tqdm==5.0.0\n",
      "Please use `tqdm.notebook.tqdm` instead of `tqdm.tqdm_notebook`\n",
      "  for x in tqdm(range(width)):\n"
     ]
    },
    {
     "data": {
      "application/vnd.jupyter.widget-view+json": {
       "model_id": "adbafedb4db44d3f8083d71aa1f05233",
       "version_major": 2,
       "version_minor": 0
      },
      "text/plain": [
       "HBox(children=(HTML(value=''), FloatProgress(value=0.0, max=1000.0), HTML(value='')))"
      ]
     },
     "metadata": {},
     "output_type": "display_data"
    },
    {
     "name": "stdout",
     "output_type": "stream",
     "text": [
      "\n"
     ]
    }
   ],
   "source": [
    "def LinearExtention(image):\n",
    "    im=image\n",
    "    width, height = im.size\n",
    "    (Rmax,Gmax,Bmax)=(0,0,0)\n",
    "    (Rmin,Gmin,Bmin)=(255,255,255)\n",
    "    for x in tqdm(range(width)):\n",
    "        for y in range(height):\n",
    "            (r,g,b)=im.getpixel((x,y))\n",
    "            Rmax=max(Rmax, r)\n",
    "            Rmin=min(Rmin, r)\n",
    "            Gmax=max(Gmax, g)\n",
    "            Gmin=min(Gmin, g)\n",
    "            Bmax=max(Bmax, b)\n",
    "            Bmin=min(Bmin, b)\n",
    "    Rf=255/(Rmax-Rmin)\n",
    "    Gf=255/(Gmax-Gmin)\n",
    "    Bf=255/(Bmax-Bmin)\n",
    "    for x in tqdm(range(width)):\n",
    "        for y in range(height):\n",
    "            (r,g,b)=im.getpixel((x,y))\n",
    "            im.putpixel((x,y),(int((r-Rmin)*Rf),int((g-Gmin)*Gf),int((b-Bmin)*Bf)))\n",
    "            \n",
    "    return im\n",
    "\n",
    "original = Image.open(\"Osbruhe.jpg\") #CHANGE TO ANOTHER IMAGE\n",
    "le=LinearExtention(original)\n",
    "le.save(\"LinearExtention.jpg\")\n",
    "le.show()"
   ]
  },
  {
   "cell_type": "code",
   "execution_count": 9,
   "metadata": {},
   "outputs": [
    {
     "name": "stderr",
     "output_type": "stream",
     "text": [
      "<ipython-input-8-284cd6ec283c>:6: TqdmDeprecationWarning: This function will be removed in tqdm==5.0.0\n",
      "Please use `tqdm.notebook.tqdm` instead of `tqdm.tqdm_notebook`\n",
      "  for x in tqdm(range(width)):\n"
     ]
    },
    {
     "data": {
      "application/vnd.jupyter.widget-view+json": {
       "model_id": "095f8e9cadc74c598a9258c1a5e9df04",
       "version_major": 2,
       "version_minor": 0
      },
      "text/plain": [
       "HBox(children=(HTML(value=''), FloatProgress(value=0.0, max=1000.0), HTML(value='')))"
      ]
     },
     "metadata": {},
     "output_type": "display_data"
    },
    {
     "name": "stdout",
     "output_type": "stream",
     "text": [
      "\n"
     ]
    },
    {
     "name": "stderr",
     "output_type": "stream",
     "text": [
      "<ipython-input-8-284cd6ec283c>:18: TqdmDeprecationWarning: This function will be removed in tqdm==5.0.0\n",
      "Please use `tqdm.notebook.tqdm` instead of `tqdm.tqdm_notebook`\n",
      "  for x in tqdm(range(width)):\n"
     ]
    },
    {
     "data": {
      "application/vnd.jupyter.widget-view+json": {
       "model_id": "4675c78452264f4aa3c0614fb49c6015",
       "version_major": 2,
       "version_minor": 0
      },
      "text/plain": [
       "HBox(children=(HTML(value=''), FloatProgress(value=0.0, max=1000.0), HTML(value='')))"
      ]
     },
     "metadata": {},
     "output_type": "display_data"
    },
    {
     "name": "stdout",
     "output_type": "stream",
     "text": [
      "\n"
     ]
    }
   ],
   "source": [
    "def IdealReflection(image):\n",
    "    im=image\n",
    "    width, height = im.size\n",
    "    (Rmax,Gmax,Bmax)=(0,0,0)\n",
    "    (Rmin,Gmin,Bmin)=(255,255,255)\n",
    "    for x in tqdm(range(width)):\n",
    "        for y in range(height):\n",
    "            (r,g,b)=im.getpixel((x,y))\n",
    "            Rmax=max(Rmax, r)\n",
    "            Gmax=max(Gmax, g)\n",
    "            Bmax=max(Bmax, b)\n",
    "    Rf=255/(Rmax)\n",
    "    Gf=255/(Gmax)\n",
    "    Bf=255/(Bmax)\n",
    "    for x in tqdm(range(width)):\n",
    "        for y in range(height):\n",
    "            (r,g,b)=im.getpixel((x,y))\n",
    "            im.putpixel((x,y),(int(r*Rf),int(g*Gf),int(b*Bf)))  \n",
    "    return im\n",
    "\n",
    "original = Image.open(\"Osbruhe.jpg\") #CHANGE TO ANOTHER IMAGE\n",
    "ir=LinearExtention(original)\n",
    "ir.save(\"IdealReflection.jpg\")\n",
    "ir.show()"
   ]
  },
  {
   "cell_type": "code",
   "execution_count": 10,
   "metadata": {},
   "outputs": [
    {
     "name": "stderr",
     "output_type": "stream",
     "text": [
      "<ipython-input-10-cb6309262c89>:8: TqdmDeprecationWarning: This function will be removed in tqdm==5.0.0\n",
      "Please use `tqdm.notebook.tqdm` instead of `tqdm.tqdm_notebook`\n",
      "  for x in tqdm(range(edgex, width-edgex)):\n"
     ]
    },
    {
     "data": {
      "application/vnd.jupyter.widget-view+json": {
       "model_id": "46473340fd9e40598b2dc0a1184ac1ca",
       "version_major": 2,
       "version_minor": 0
      },
      "text/plain": [
       "HBox(children=(HTML(value=''), FloatProgress(value=0.0, max=254.0), HTML(value='')))"
      ]
     },
     "metadata": {},
     "output_type": "display_data"
    },
    {
     "name": "stdout",
     "output_type": "stream",
     "text": [
      "\n"
     ]
    }
   ],
   "source": [
    "def MedianFilter(image, wwidth, wheight):\n",
    "    im=image\n",
    "    width, height = im.size\n",
    "    edgex, edgey = wwidth//2, wheight//2\n",
    "    rw=([[0]*wwidth for i in range(wheight)])\n",
    "    gw=([[0]*wwidth for i in range(wheight)])\n",
    "    bw=([[0]*wwidth for i in range(wheight)])\n",
    "    for x in tqdm(range(edgex, width-edgex)):\n",
    "        for y in range(edgey, height-edgey):\n",
    "            for fx in range(0,wwidth):\n",
    "                for fy in range(0,wheight):\n",
    "                    #print(x+fx-edgex,y+fy-edgey)\n",
    "                    (r,g,b)=image.getpixel((x+fx-edgex,y+fy-edgey))\n",
    "                    rw[fx][fy],gw[fx][fy],bw[fx][fy]= r, g, b\n",
    "                    #rw[i]=r\n",
    "            #print(rw)\n",
    "            for i in range (wwidth):\n",
    "                rw[i].sort()\n",
    "                bw[i].sort()\n",
    "                gw[i].sort()\n",
    "            im.putpixel((x,y),(rw[wwidth//2][wheight//2], gw[wwidth//2][wheight//2], bw[wwidth//2][wheight//2]))\n",
    "    return im\n",
    "\n",
    "original = Image.open(\"salt_pepper_noise.jpg\")\n",
    "mf=MedianFilter(original, 3, 3)\n",
    "mf.save(\"MedianFilter_spn.jpg\")\n",
    "mf.show()\n"
   ]
  },
  {
   "cell_type": "code",
   "execution_count": 11,
   "metadata": {},
   "outputs": [],
   "source": [
    "def MatrixFilter(image, kernel):\n",
    "    radiusX, radiusY = len(kernel[0])//2, len(kernel[1])//2\n",
    "    im=image\n",
    "    width, height = im.size\n",
    "    for x in tqdm(range(width)):\n",
    "        for y in range(height):\n",
    "            R,G,B=0,0,0\n",
    "            for l in range(-radiusY, radiusY+1):\n",
    "                for k in range(-radiusX, radiusX+1):\n",
    "                    idX=Clamp(x+k, 0, width-1)\n",
    "                    idY=Clamp(y+l, 0, height-1)\n",
    "                    (r,g,b)=image.getpixel((x,y))\n",
    "                    R+=r*kernel[k+radiusX][l+radiusY]\n",
    "                    G+=g*kernel[k+radiusX][l+radiusY]\n",
    "                    B+=b*kernel[k+radiusX][l+radiusY]\n",
    "            R,G,B=Clamp(R,0,255),Clamp(G,0,255),Clamp(B,0,255)\n",
    "            im.putpixel((x,y),(int(R),int(G),int(B)))\n",
    "    return im"
   ]
  },
  {
   "cell_type": "code",
   "execution_count": 12,
   "metadata": {},
   "outputs": [
    {
     "name": "stderr",
     "output_type": "stream",
     "text": [
      "<ipython-input-11-61c4e90ae907>:5: TqdmDeprecationWarning: This function will be removed in tqdm==5.0.0\n",
      "Please use `tqdm.notebook.tqdm` instead of `tqdm.tqdm_notebook`\n",
      "  for x in tqdm(range(width)):\n"
     ]
    },
    {
     "data": {
      "application/vnd.jupyter.widget-view+json": {
       "model_id": "2b05ca98dd38497399d7ee9ce444bd09",
       "version_major": 2,
       "version_minor": 0
      },
      "text/plain": [
       "HBox(children=(HTML(value=''), FloatProgress(value=0.0, max=1000.0), HTML(value='')))"
      ]
     },
     "metadata": {},
     "output_type": "display_data"
    },
    {
     "name": "stdout",
     "output_type": "stream",
     "text": [
      "\n"
     ]
    }
   ],
   "source": [
    "Sharp_kernel=[[-1,-1, -1],[-1, 9, -1],[-1, -1, -1]]\n",
    "original = Image.open(\"Osbruhe.jpg\") #CHANGE TO ANOTHER IMAGE\n",
    "sharp=MatrixFilter(original, Sharp_kernel)\n",
    "sharp.save(\"SharperOsbruhe.jpg\")\n",
    "sharp.show()"
   ]
  },
  {
   "cell_type": "code",
   "execution_count": 14,
   "metadata": {},
   "outputs": [
    {
     "name": "stdout",
     "output_type": "stream",
     "text": [
      "[[0.09090909090909091, 0, 0, 0, 0, 0, 0, 0, 0, 0, 0], [0, 0.09090909090909091, 0, 0, 0, 0, 0, 0, 0, 0, 0], [0, 0, 0.09090909090909091, 0, 0, 0, 0, 0, 0, 0, 0], [0, 0, 0, 0.09090909090909091, 0, 0, 0, 0, 0, 0, 0], [0, 0, 0, 0, 0.09090909090909091, 0, 0, 0, 0, 0, 0], [0, 0, 0, 0, 0, 0.09090909090909091, 0, 0, 0, 0, 0], [0, 0, 0, 0, 0, 0, 0.09090909090909091, 0, 0, 0, 0], [0, 0, 0, 0, 0, 0, 0, 0.09090909090909091, 0, 0, 0], [0, 0, 0, 0, 0, 0, 0, 0, 0.09090909090909091, 0, 0], [0, 0, 0, 0, 0, 0, 0, 0, 0, 0.09090909090909091, 0], [0, 0, 0, 0, 0, 0, 0, 0, 0, 0, 0.09090909090909091]]\n"
     ]
    },
    {
     "name": "stderr",
     "output_type": "stream",
     "text": [
      "<ipython-input-11-61c4e90ae907>:5: TqdmDeprecationWarning: This function will be removed in tqdm==5.0.0\n",
      "Please use `tqdm.notebook.tqdm` instead of `tqdm.tqdm_notebook`\n",
      "  for x in tqdm(range(width)):\n"
     ]
    },
    {
     "data": {
      "application/vnd.jupyter.widget-view+json": {
       "model_id": "f071ac20cc5748fda5f4818de29079b1",
       "version_major": 2,
       "version_minor": 0
      },
      "text/plain": [
       "HBox(children=(HTML(value=''), FloatProgress(value=0.0, max=1000.0), HTML(value='')))"
      ]
     },
     "metadata": {},
     "output_type": "display_data"
    },
    {
     "name": "stdout",
     "output_type": "stream",
     "text": [
      "\n"
     ]
    }
   ],
   "source": [
    "size=11\n",
    "Blur_kernel=[[0]*size for i in range(size)]\n",
    "\n",
    "for i in range(size):\n",
    "    for j in range(size):\n",
    "        Blur_kernel[i][i]=1/size\n",
    "\n",
    "print(Blur_kernel)\n",
    "\n",
    "original = Image.open(\"Osbruhe.jpg\") #CHANGE TO ANOTHER IMAGE\n",
    "Blur=MatrixFilter(original, Blur_kernel)\n",
    "Blur.save(\"BluredOsbruhe.jpg\")\n",
    "Blur.show()"
   ]
  },
  {
   "cell_type": "code",
   "execution_count": 15,
   "metadata": {},
   "outputs": [
    {
     "name": "stderr",
     "output_type": "stream",
     "text": [
      "<ipython-input-11-61c4e90ae907>:5: TqdmDeprecationWarning: This function will be removed in tqdm==5.0.0\n",
      "Please use `tqdm.notebook.tqdm` instead of `tqdm.tqdm_notebook`\n",
      "  for x in tqdm(range(width)):\n"
     ]
    },
    {
     "data": {
      "application/vnd.jupyter.widget-view+json": {
       "model_id": "e426f3dbbb324ef894bfe950c75dc29a",
       "version_major": 2,
       "version_minor": 0
      },
      "text/plain": [
       "HBox(children=(HTML(value=''), FloatProgress(value=0.0, max=1000.0), HTML(value='')))"
      ]
     },
     "metadata": {},
     "output_type": "display_data"
    },
    {
     "name": "stdout",
     "output_type": "stream",
     "text": [
      "\n"
     ]
    }
   ],
   "source": [
    "def Gauss_Kernel(radius: int, sigma: float):\n",
    "    size = 2*radius+1\n",
    "    kernel=[[0]*size for i in range(size)]\n",
    "    norm=0\n",
    "    for i in range(-radius,radius+1):\n",
    "        for j in range(-radius,radius+1):\n",
    "            kernel[i+radius][j+radius]=math.exp(-(i*i+j*j)/(2*sigma*sigma))\n",
    "            norm+=kernel[i+radius][j+radius]\n",
    "    for i in range(size):\n",
    "        for j in range(size):\n",
    "            kernel[i][j]/=norm\n",
    "    return kernel\n",
    "\n",
    "original = Image.open(\"Osbruhe.jpg\") #CHANGE TO ANOTHER IMAGE\n",
    "gauss=MatrixFilter(original, Gauss_Kernel(3,5))\n",
    "gauss.save(\"GaussOsbruhe.jpg\")\n",
    "gauss.show()"
   ]
  },
  {
   "cell_type": "code",
   "execution_count": null,
   "metadata": {},
   "outputs": [],
   "source": []
  }
 ],
 "metadata": {
  "kernelspec": {
   "display_name": "Python 3",
   "language": "python",
   "name": "python3"
  },
  "language_info": {
   "codemirror_mode": {
    "name": "ipython",
    "version": 3
   },
   "file_extension": ".py",
   "mimetype": "text/x-python",
   "name": "python",
   "nbconvert_exporter": "python",
   "pygments_lexer": "ipython3",
   "version": "3.8.5"
  }
 },
 "nbformat": 4,
 "nbformat_minor": 4
}
