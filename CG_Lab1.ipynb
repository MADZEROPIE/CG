{
 "cells": [
  {
   "cell_type": "code",
   "execution_count": 1,
   "metadata": {},
   "outputs": [],
   "source": [
    "from tqdm import tqdm_notebook as tqdm\n",
    "import math"
   ]
  },
  {
   "cell_type": "code",
   "execution_count": 2,
   "metadata": {},
   "outputs": [],
   "source": [
    "%%cmd\n",
    "md Filtered"
   ]
  },
  {
   "cell_type": "code",
   "execution_count": 3,
   "metadata": {},
   "outputs": [],
   "source": [
    "from PIL import Image\n",
    "\n",
    "try:\n",
    "    original = Image.open(\"Originals/Osbruhe.jpg\")\n",
    "except FileNotFoundError:\n",
    "    print(\"Файл не найден\")\n"
   ]
  },
  {
   "cell_type": "code",
   "execution_count": 6,
   "metadata": {},
   "outputs": [],
   "source": [
    "def Clamp(col, min, max):\n",
    "    if (col>max):\n",
    "        return max\n",
    "    if col<min:\n",
    "        return min\n",
    "    return col"
   ]
  },
  {
   "cell_type": "markdown",
   "metadata": {},
   "source": [
    "# Точечные фильтры\n"
   ]
  },
  {
   "cell_type": "code",
   "execution_count": 4,
   "metadata": {},
   "outputs": [
    {
     "name": "stderr",
     "output_type": "stream",
     "text": [
      "<ipython-input-4-a3109fe649d5>:4: TqdmDeprecationWarning: This function will be removed in tqdm==5.0.0\n",
      "Please use `tqdm.notebook.tqdm` instead of `tqdm.tqdm_notebook`\n",
      "  for x in tqdm(range(width)):\n"
     ]
    },
    {
     "data": {
      "application/vnd.jupyter.widget-view+json": {
       "model_id": "e614424d7cfd4396b2ecb9a2688146a9",
       "version_major": 2,
       "version_minor": 0
      },
      "text/plain": [
       "HBox(children=(HTML(value=''), FloatProgress(value=0.0, max=1000.0), HTML(value='')))"
      ]
     },
     "metadata": {},
     "output_type": "display_data"
    },
    {
     "name": "stdout",
     "output_type": "stream",
     "text": [
      "\n"
     ]
    },
    {
     "data": {
      "application/vnd.jupyter.widget-view+json": {
       "model_id": "31665504e3c8474686dd62569cddaea7",
       "version_major": 2,
       "version_minor": 0
      },
      "text/plain": [
       "HBox(children=(HTML(value=''), FloatProgress(value=0.0, max=1000.0), HTML(value='')))"
      ]
     },
     "metadata": {},
     "output_type": "display_data"
    },
    {
     "name": "stdout",
     "output_type": "stream",
     "text": [
      "\n"
     ]
    }
   ],
   "source": [
    "def InvertFilter(image):\n",
    "    im=image\n",
    "    width, height = im.size\n",
    "    for x in tqdm(range(width)):\n",
    "        for y in range(height):\n",
    "            (r,g,b)=im.getpixel((x,y))\n",
    "            im.putpixel((x,y),((255-r),(255-g),(255-b)))\n",
    "    return im\n",
    "\n",
    "inverted=InvertFilter(original)\n",
    "inverted.save(\"Filtered/inverted.jpg\")\n",
    "inverted.show()\n",
    "\n",
    "inverted2=InvertFilter(inverted)\n",
    "inverted2.save(\"Filtered/inverted2.jpg\")\n",
    "inverted2.show()\n"
   ]
  },
  {
   "cell_type": "code",
   "execution_count": 5,
   "metadata": {},
   "outputs": [
    {
     "name": "stderr",
     "output_type": "stream",
     "text": [
      "<ipython-input-5-e38be6961b83>:4: TqdmDeprecationWarning: This function will be removed in tqdm==5.0.0\n",
      "Please use `tqdm.notebook.tqdm` instead of `tqdm.tqdm_notebook`\n",
      "  for x in tqdm(range(width)):\n"
     ]
    },
    {
     "data": {
      "application/vnd.jupyter.widget-view+json": {
       "model_id": "9b66df18165b492d85f9b2bf13348dca",
       "version_major": 2,
       "version_minor": 0
      },
      "text/plain": [
       "HBox(children=(HTML(value=''), FloatProgress(value=0.0, max=1000.0), HTML(value='')))"
      ]
     },
     "metadata": {},
     "output_type": "display_data"
    },
    {
     "name": "stdout",
     "output_type": "stream",
     "text": [
      "\n"
     ]
    }
   ],
   "source": [
    "def GrayScaleFilter(image):\n",
    "    im=image\n",
    "    width, height = im.size\n",
    "    for x in tqdm(range(width)):\n",
    "        for y in range(height):\n",
    "            (r,g,b)=image.getpixel((x,y))\n",
    "            intensity=int (0.299 * r + 0.587 * g + 0.114 * b)\n",
    "            im.putpixel((x,y),((intensity),(intensity),(intensity)))\n",
    "    return im\n",
    "original = Image.open(\"Originals/Osbruhe.jpg\")\n",
    "gray=GrayScaleFilter(original)\n",
    "gray.save(\"Filtered/gray.jpg\")\n",
    "gray.show()\n"
   ]
  },
  {
   "cell_type": "code",
   "execution_count": 7,
   "metadata": {},
   "outputs": [
    {
     "name": "stderr",
     "output_type": "stream",
     "text": [
      "<ipython-input-7-6e57cb9ef600>:4: TqdmDeprecationWarning: This function will be removed in tqdm==5.0.0\n",
      "Please use `tqdm.notebook.tqdm` instead of `tqdm.tqdm_notebook`\n",
      "  for x in tqdm(range(width)):\n"
     ]
    },
    {
     "data": {
      "application/vnd.jupyter.widget-view+json": {
       "model_id": "9acf16f176f9436aade38b0e407fae7e",
       "version_major": 2,
       "version_minor": 0
      },
      "text/plain": [
       "HBox(children=(HTML(value=''), FloatProgress(value=0.0, max=1000.0), HTML(value='')))"
      ]
     },
     "metadata": {},
     "output_type": "display_data"
    },
    {
     "name": "stdout",
     "output_type": "stream",
     "text": [
      "\n"
     ]
    }
   ],
   "source": [
    "def SepianFilter(image, k):\n",
    "    im=image\n",
    "    width, height = im.size\n",
    "    for x in tqdm(range(width)):\n",
    "        for y in range(height):\n",
    "            (r,g,b)=im.getpixel((x,y))\n",
    "            intensity=int (0.299 * r + 0.587 * g + 0.114 * b)\n",
    "            R=int(intensity+2)\n",
    "            G=int(intensity+k*0.5)\n",
    "            B=int(intensity-k)\n",
    "            im.putpixel((x,y),(Clamp(R,0,255), Clamp(G,0,255), Clamp(B,0,255)))\n",
    "    return im\n",
    "\n",
    "original = Image.open(\"Originals/Osbruhe.jpg\")\n",
    "sepian=SepianFilter(original, 10)\n",
    "sepian.save(\"Filtered/sepian.jpg\")\n",
    "sepian.show()\n"
   ]
  },
  {
   "cell_type": "code",
   "execution_count": 8,
   "metadata": {},
   "outputs": [
    {
     "name": "stderr",
     "output_type": "stream",
     "text": [
      "<ipython-input-8-4826a6fd39e8>:4: TqdmDeprecationWarning: This function will be removed in tqdm==5.0.0\n",
      "Please use `tqdm.notebook.tqdm` instead of `tqdm.tqdm_notebook`\n",
      "  for x in tqdm(range(width)):\n"
     ]
    },
    {
     "data": {
      "application/vnd.jupyter.widget-view+json": {
       "model_id": "49f95e3831c8451493a990985db91d67",
       "version_major": 2,
       "version_minor": 0
      },
      "text/plain": [
       "HBox(children=(HTML(value=''), FloatProgress(value=0.0, max=1000.0), HTML(value='')))"
      ]
     },
     "metadata": {},
     "output_type": "display_data"
    },
    {
     "name": "stdout",
     "output_type": "stream",
     "text": [
      "\n"
     ]
    }
   ],
   "source": [
    "def BrightenFilter(image, k):\n",
    "    im=image\n",
    "    width, height = im.size\n",
    "    for x in tqdm(range(width)):\n",
    "        for y in range(height):\n",
    "            (r,g,b)=im.getpixel((x,y))\n",
    "            im.putpixel((x,y),(Clamp(r+k,0,255), Clamp(g+k,0,255), Clamp(b+k,0,255)))\n",
    "    return im\n",
    "\n",
    "original = Image.open(\"Originals/Osbruhe.jpg\")\n",
    "bright=BrightenFilter(original, 50)\n",
    "bright.save(\"Filtered/bright.jpg\")\n",
    "bright.show()\n"
   ]
  },
  {
   "cell_type": "code",
   "execution_count": 9,
   "metadata": {},
   "outputs": [
    {
     "name": "stderr",
     "output_type": "stream",
     "text": [
      "<ipython-input-9-108b969c1d51>:5: TqdmDeprecationWarning: This function will be removed in tqdm==5.0.0\n",
      "Please use `tqdm.notebook.tqdm` instead of `tqdm.tqdm_notebook`\n",
      "  for x in tqdm(range(width)):\n"
     ]
    },
    {
     "data": {
      "application/vnd.jupyter.widget-view+json": {
       "model_id": "c76031751a0645d88a27abc6e9edda4f",
       "version_major": 2,
       "version_minor": 0
      },
      "text/plain": [
       "HBox(children=(HTML(value=''), FloatProgress(value=0.0, max=1000.0), HTML(value='')))"
      ]
     },
     "metadata": {},
     "output_type": "display_data"
    },
    {
     "name": "stdout",
     "output_type": "stream",
     "text": [
      "\n"
     ]
    },
    {
     "name": "stderr",
     "output_type": "stream",
     "text": [
      "<ipython-input-9-108b969c1d51>:18: TqdmDeprecationWarning: This function will be removed in tqdm==5.0.0\n",
      "Please use `tqdm.notebook.tqdm` instead of `tqdm.tqdm_notebook`\n",
      "  for x in tqdm(range(width)):\n"
     ]
    },
    {
     "data": {
      "application/vnd.jupyter.widget-view+json": {
       "model_id": "c51c5bdbb20548b5a3854e69868d07d4",
       "version_major": 2,
       "version_minor": 0
      },
      "text/plain": [
       "HBox(children=(HTML(value=''), FloatProgress(value=0.0, max=1000.0), HTML(value='')))"
      ]
     },
     "metadata": {},
     "output_type": "display_data"
    },
    {
     "name": "stdout",
     "output_type": "stream",
     "text": [
      "\n"
     ]
    }
   ],
   "source": [
    "def GreyWorld(image):\n",
    "    im=image\n",
    "    width, height = im.size\n",
    "    (Rsum,Gsum,Bsum)=(0,0,0)\n",
    "    for x in tqdm(range(width)):\n",
    "        for y in range(height):\n",
    "            (r,g,b)=im.getpixel((x,y))\n",
    "            Rsum+=r\n",
    "            Gsum+=g\n",
    "            Bsum+=b\n",
    "    R_=Rsum/(width * height)\n",
    "    G_=Gsum/(width * height)\n",
    "    B_=Bsum/(width * height)\n",
    "    Avg = (R_+B_+G_)/3\n",
    "    Rf=Avg/R_\n",
    "    Gf=Avg/G_\n",
    "    Bf=Avg/B_\n",
    "    for x in tqdm(range(width)):\n",
    "        for y in range(height):\n",
    "            (r,g,b)=im.getpixel((x,y))\n",
    "            im.putpixel((x,y),(int(r*Rf),int(g*Gf),int(b*Bf)))\n",
    "    return im\n",
    "  \n",
    "original = Image.open(\"Originals/Osbruhe.jpg\") #CHANGE TO ANOTHER IMAGE\n",
    "gw=GreyWorld(original)\n",
    "gw.save(\"Filtered/GreyWorld.jpg\")\n",
    "gw.show()"
   ]
  },
  {
   "cell_type": "code",
   "execution_count": 10,
   "metadata": {},
   "outputs": [
    {
     "name": "stderr",
     "output_type": "stream",
     "text": [
      "<ipython-input-10-8eb0cff68905>:6: TqdmDeprecationWarning: This function will be removed in tqdm==5.0.0\n",
      "Please use `tqdm.notebook.tqdm` instead of `tqdm.tqdm_notebook`\n",
      "  for x in tqdm(range(width)):\n"
     ]
    },
    {
     "data": {
      "application/vnd.jupyter.widget-view+json": {
       "model_id": "f5614b3853304cc697cb3b7118163a17",
       "version_major": 2,
       "version_minor": 0
      },
      "text/plain": [
       "HBox(children=(HTML(value=''), FloatProgress(value=0.0, max=1000.0), HTML(value='')))"
      ]
     },
     "metadata": {},
     "output_type": "display_data"
    },
    {
     "name": "stdout",
     "output_type": "stream",
     "text": [
      "\n"
     ]
    },
    {
     "name": "stderr",
     "output_type": "stream",
     "text": [
      "<ipython-input-10-8eb0cff68905>:18: TqdmDeprecationWarning: This function will be removed in tqdm==5.0.0\n",
      "Please use `tqdm.notebook.tqdm` instead of `tqdm.tqdm_notebook`\n",
      "  for x in tqdm(range(width)):\n"
     ]
    },
    {
     "data": {
      "application/vnd.jupyter.widget-view+json": {
       "model_id": "29e0e4a375f840d3b449421f4a3c74b8",
       "version_major": 2,
       "version_minor": 0
      },
      "text/plain": [
       "HBox(children=(HTML(value=''), FloatProgress(value=0.0, max=1000.0), HTML(value='')))"
      ]
     },
     "metadata": {},
     "output_type": "display_data"
    },
    {
     "name": "stdout",
     "output_type": "stream",
     "text": [
      "\n"
     ]
    }
   ],
   "source": [
    "def LinearExtention(image):\n",
    "    im=image\n",
    "    width, height = im.size\n",
    "    (Rmax,Gmax,Bmax)=(0,0,0)\n",
    "    (Rmin,Gmin,Bmin)=(255,255,255)\n",
    "    for x in tqdm(range(width)):\n",
    "        for y in range(height):\n",
    "            (r,g,b)=im.getpixel((x,y))\n",
    "            Rmax=max(Rmax, r)\n",
    "            Rmin=min(Rmin, r)\n",
    "            Gmax=max(Gmax, g)\n",
    "            Gmin=min(Gmin, g)\n",
    "            Bmax=max(Bmax, b)\n",
    "            Bmin=min(Bmin, b)\n",
    "    Rf=255/(Rmax-Rmin)\n",
    "    Gf=255/(Gmax-Gmin)\n",
    "    Bf=255/(Bmax-Bmin)\n",
    "    for x in tqdm(range(width)):\n",
    "        for y in range(height):\n",
    "            (r,g,b)=im.getpixel((x,y))\n",
    "            im.putpixel((x,y),(int((r-Rmin)*Rf),int((g-Gmin)*Gf),int((b-Bmin)*Bf)))\n",
    "            \n",
    "    return im\n",
    "\n",
    "original = Image.open(\"Originals/Osbruhe.jpg\") #CHANGE TO ANOTHER IMAGE\n",
    "le=LinearExtention(original)\n",
    "le.save(\"Filtered/LinearExtention.jpg\")\n",
    "le.show()"
   ]
  },
  {
   "cell_type": "code",
   "execution_count": 11,
   "metadata": {},
   "outputs": [
    {
     "name": "stderr",
     "output_type": "stream",
     "text": [
      "<ipython-input-10-8eb0cff68905>:6: TqdmDeprecationWarning: This function will be removed in tqdm==5.0.0\n",
      "Please use `tqdm.notebook.tqdm` instead of `tqdm.tqdm_notebook`\n",
      "  for x in tqdm(range(width)):\n"
     ]
    },
    {
     "data": {
      "application/vnd.jupyter.widget-view+json": {
       "model_id": "97c274f472e842f88f168911c3f4279d",
       "version_major": 2,
       "version_minor": 0
      },
      "text/plain": [
       "HBox(children=(HTML(value=''), FloatProgress(value=0.0, max=1000.0), HTML(value='')))"
      ]
     },
     "metadata": {},
     "output_type": "display_data"
    },
    {
     "name": "stdout",
     "output_type": "stream",
     "text": [
      "\n"
     ]
    },
    {
     "name": "stderr",
     "output_type": "stream",
     "text": [
      "<ipython-input-10-8eb0cff68905>:18: TqdmDeprecationWarning: This function will be removed in tqdm==5.0.0\n",
      "Please use `tqdm.notebook.tqdm` instead of `tqdm.tqdm_notebook`\n",
      "  for x in tqdm(range(width)):\n"
     ]
    },
    {
     "data": {
      "application/vnd.jupyter.widget-view+json": {
       "model_id": "336981b0097e4178b727e0aa319d45d1",
       "version_major": 2,
       "version_minor": 0
      },
      "text/plain": [
       "HBox(children=(HTML(value=''), FloatProgress(value=0.0, max=1000.0), HTML(value='')))"
      ]
     },
     "metadata": {},
     "output_type": "display_data"
    },
    {
     "name": "stdout",
     "output_type": "stream",
     "text": [
      "\n"
     ]
    }
   ],
   "source": [
    "def IdealReflection(image):\n",
    "    im=image\n",
    "    width, height = im.size\n",
    "    (Rmax,Gmax,Bmax)=(0,0,0)\n",
    "    (Rmin,Gmin,Bmin)=(255,255,255)\n",
    "    for x in tqdm(range(width)):\n",
    "        for y in range(height):\n",
    "            (r,g,b)=im.getpixel((x,y))\n",
    "            Rmax=max(Rmax, r)\n",
    "            Gmax=max(Gmax, g)\n",
    "            Bmax=max(Bmax, b)\n",
    "    Rf=255/(Rmax)\n",
    "    Gf=255/(Gmax)\n",
    "    Bf=255/(Bmax)\n",
    "    for x in tqdm(range(width)):\n",
    "        for y in range(height):\n",
    "            (r,g,b)=im.getpixel((x,y))\n",
    "            im.putpixel((x,y),(int(r*Rf),int(g*Gf),int(b*Bf)))  \n",
    "    return im\n",
    "\n",
    "original = Image.open(\"Originals/Osbruhe.jpg\") #CHANGE TO ANOTHER IMAGE\n",
    "ir=LinearExtention(original)\n",
    "ir.save(\"Filtered/IdealReflection.jpg\")\n",
    "ir.show()"
   ]
  },
  {
   "cell_type": "code",
   "execution_count": 12,
   "metadata": {},
   "outputs": [
    {
     "name": "stderr",
     "output_type": "stream",
     "text": [
      "<ipython-input-12-cf53aad2a048>:8: TqdmDeprecationWarning: This function will be removed in tqdm==5.0.0\n",
      "Please use `tqdm.notebook.tqdm` instead of `tqdm.tqdm_notebook`\n",
      "  for x in tqdm(range(edgex, width-edgex)):\n"
     ]
    },
    {
     "data": {
      "application/vnd.jupyter.widget-view+json": {
       "model_id": "fed5c0997e94437c97750d92c035b87e",
       "version_major": 2,
       "version_minor": 0
      },
      "text/plain": [
       "HBox(children=(HTML(value=''), FloatProgress(value=0.0, max=252.0), HTML(value='')))"
      ]
     },
     "metadata": {},
     "output_type": "display_data"
    },
    {
     "name": "stdout",
     "output_type": "stream",
     "text": [
      "\n"
     ]
    }
   ],
   "source": [
    "def MedianFilter(image, wwidth, wheight):\n",
    "    im=image\n",
    "    width, height = im.size\n",
    "    edgex, edgey = wwidth//2, wheight//2\n",
    "    rw=([[0]*wwidth for i in range(wheight)])\n",
    "    gw=([[0]*wwidth for i in range(wheight)])\n",
    "    bw=([[0]*wwidth for i in range(wheight)])\n",
    "    for x in tqdm(range(edgex, width-edgex)):\n",
    "        for y in range(edgey, height-edgey):\n",
    "            for fx in range(0,wwidth):\n",
    "                for fy in range(0,wheight):\n",
    "                    #print(x+fx-edgex,y+fy-edgey)\n",
    "                    (r,g,b)=image.getpixel((x+fx-edgex,y+fy-edgey))\n",
    "                    rw[fx][fy],gw[fx][fy],bw[fx][fy]= r, g, b\n",
    "                    #rw[i]=r\n",
    "            #print(rw)\n",
    "            for i in range (wwidth):\n",
    "                rw[i].sort()\n",
    "                bw[i].sort()\n",
    "                gw[i].sort()\n",
    "            im.putpixel((x,y),(rw[wwidth//2][wheight//2], gw[wwidth//2][wheight//2], bw[wwidth//2][wheight//2]))\n",
    "    return im\n",
    "\n",
    "original = Image.open(\"Originals/salt_pepper_noise.jpg\")\n",
    "mf=MedianFilter(original, 5, 5)\n",
    "mf.save(\"Filtered/MedianFilter_spn.jpg\")\n",
    "mf.show()\n"
   ]
  },
  {
   "cell_type": "code",
   "execution_count": 13,
   "metadata": {},
   "outputs": [
    {
     "name": "stderr",
     "output_type": "stream",
     "text": [
      "<ipython-input-13-773bcdfd88e8>:8: TqdmDeprecationWarning: This function will be removed in tqdm==5.0.0\n",
      "Please use `tqdm.notebook.tqdm` instead of `tqdm.tqdm_notebook`\n",
      "  for x in tqdm(range(edgex, width-edgex)):\n"
     ]
    },
    {
     "data": {
      "application/vnd.jupyter.widget-view+json": {
       "model_id": "3e57a6cdc22247f2a1cf8034d5289a83",
       "version_major": 2,
       "version_minor": 0
      },
      "text/plain": [
       "HBox(children=(HTML(value=''), FloatProgress(value=0.0, max=998.0), HTML(value='')))"
      ]
     },
     "metadata": {},
     "output_type": "display_data"
    },
    {
     "name": "stdout",
     "output_type": "stream",
     "text": [
      "\n"
     ]
    }
   ],
   "source": [
    "def MaxFilter(image, wwidth, wheight):\n",
    "    im=image\n",
    "    width, height = im.size\n",
    "    edgex, edgey = wwidth//2, wheight//2\n",
    "    rw=([[0]*wwidth for i in range(wheight)])\n",
    "    gw=([[0]*wwidth for i in range(wheight)])\n",
    "    bw=([[0]*wwidth for i in range(wheight)])\n",
    "    for x in tqdm(range(edgex, width-edgex)):\n",
    "        for y in range(edgey, height-edgey):\n",
    "            for fx in range(0,wwidth):\n",
    "                for fy in range(0,wheight):\n",
    "                    #print(x+fx-edgex,y+fy-edgey)\n",
    "                    (r,g,b)=image.getpixel((x+fx-edgex,y+fy-edgey))\n",
    "                    rw[fx][fy],gw[fx][fy],bw[fx][fy]= r, g, b\n",
    "                    #rw[i]=r\n",
    "            #print(rw)\n",
    "            for i in range (wwidth):\n",
    "                rw[i].sort()\n",
    "                bw[i].sort()\n",
    "                gw[i].sort()\n",
    "            im.putpixel((x,y),(rw[-1][-1], gw[-1][-1], bw[-1][-1]))\n",
    "    return im\n",
    "\n",
    "original = Image.open(\"Originals/Osbruhe.jpg\")\n",
    "maf=MaxFilter(original, 3, 3)\n",
    "maf.save(\"Filtered/MaxFilter_Osb.jpg\")\n",
    "maf.show()"
   ]
  },
  {
   "cell_type": "markdown",
   "metadata": {},
   "source": [
    "# Матричные фильтры\n"
   ]
  },
  {
   "cell_type": "code",
   "execution_count": null,
   "metadata": {},
   "outputs": [],
   "source": [
    "def MatrixFilter(image, kernel):\n",
    "    radiusX, radiusY = len(kernel[0])//2, len(kernel[1])//2\n",
    "    im=image.copy()\n",
    "    width, height = im.size\n",
    "    for x in tqdm(range(width)):\n",
    "        for y in range(height):\n",
    "            R=G=B=0\n",
    "            for k in range(-radiusX, radiusX+1, 1):\n",
    "                for l in range(-radiusY, radiusY+1, 1):\n",
    "                    idX=Clamp(x+k, 0, width-1)\n",
    "                    idY=Clamp(y+l, 0, height-1)\n",
    "                    (r,g,b) = image.getpixel((idX,idY))\n",
    "                    R += (r * kernel[k+radiusX][l+radiusY])\n",
    "                    G += (g * kernel[k+radiusX][l+radiusY])\n",
    "                    B += (b * kernel[k+radiusX][l+radiusY])\n",
    "            R,G,B=Clamp(R,0,255),Clamp(G,0,255),Clamp(B,0,255)\n",
    "            #print(R,G,B)\n",
    "            im.putpixel((x,y), (int(R),int(G),int(B)))\n",
    "            \n",
    "    return im"
   ]
  },
  {
   "cell_type": "code",
   "execution_count": 15,
   "metadata": {},
   "outputs": [
    {
     "name": "stderr",
     "output_type": "stream",
     "text": [
      "<ipython-input-14-0a5507a3db05>:5: TqdmDeprecationWarning: This function will be removed in tqdm==5.0.0\n",
      "Please use `tqdm.notebook.tqdm` instead of `tqdm.tqdm_notebook`\n",
      "  for x in tqdm(range(width)):\n"
     ]
    },
    {
     "data": {
      "application/vnd.jupyter.widget-view+json": {
       "model_id": "ca76567763ea42e0a4275620c700bf9a",
       "version_major": 2,
       "version_minor": 0
      },
      "text/plain": [
       "HBox(children=(HTML(value=''), FloatProgress(value=0.0, max=1000.0), HTML(value='')))"
      ]
     },
     "metadata": {},
     "output_type": "display_data"
    },
    {
     "name": "stdout",
     "output_type": "stream",
     "text": [
      "\n"
     ]
    }
   ],
   "source": [
    "#from PIL import ImageFilter\n",
    "\n",
    "#Sharp_kernel=[[-1,-1, -1],[-1, 9, -1],[-1, -1, -1]]\n",
    "#Sharp_kernel=[0,-1,0,-1,5,-1,0,-1,0]\n",
    "\n",
    "Sharp_kernel=[[0,-1, 0],[-1, 5, -1],[0, -1, 0]]\n",
    "\n",
    "original = Image.open(\"Originals/Osbruhe.jpg\") #CHANGE TO ANOTHER IMAGE\n",
    "#original = Image.open(\"Originals/lena.jpg\")\n",
    "sharp=MatrixFilter(original, Sharp_kernel)\n",
    "#sharp=original.filter(ImageFilter.Kernel([3,3],Sharp_kernel))\n",
    "sharp.save(\"Filtered/SharperOsbruhe.jpg\")\n",
    "#sharp.save(\"Filtered/Sharperlena3.jpg\")\n",
    "sharp.show()"
   ]
  },
  {
   "cell_type": "code",
   "execution_count": 16,
   "metadata": {},
   "outputs": [
    {
     "name": "stderr",
     "output_type": "stream",
     "text": [
      "<ipython-input-14-0a5507a3db05>:5: TqdmDeprecationWarning: This function will be removed in tqdm==5.0.0\n",
      "Please use `tqdm.notebook.tqdm` instead of `tqdm.tqdm_notebook`\n",
      "  for x in tqdm(range(width)):\n"
     ]
    },
    {
     "data": {
      "application/vnd.jupyter.widget-view+json": {
       "model_id": "14ac7d0b4acc4b60945eb9a50f0a8d66",
       "version_major": 2,
       "version_minor": 0
      },
      "text/plain": [
       "HBox(children=(HTML(value=''), FloatProgress(value=0.0, max=512.0), HTML(value='')))"
      ]
     },
     "metadata": {},
     "output_type": "display_data"
    },
    {
     "name": "stdout",
     "output_type": "stream",
     "text": [
      "\n"
     ]
    }
   ],
   "source": [
    "size=5\n",
    "Blur_kernel=[[0]*size for i in range(size)]\n",
    "\n",
    "for i in range(size):\n",
    "    for j in range(size):\n",
    "        Blur_kernel[i][i]=1/(size)\n",
    "\n",
    "#print(Blur_kernel)\n",
    "\n",
    "original = Image.open(\"Originals/lena.jpg\") #CHANGE TO ANOTHER IMAGE\n",
    "Blur=MatrixFilter(original, Blur_kernel)\n",
    "Blur.save(\"Filtered/Bluredlena.jpg\")\n",
    "Blur.show()"
   ]
  },
  {
   "cell_type": "code",
   "execution_count": 17,
   "metadata": {},
   "outputs": [
    {
     "name": "stderr",
     "output_type": "stream",
     "text": [
      "<ipython-input-14-0a5507a3db05>:5: TqdmDeprecationWarning: This function will be removed in tqdm==5.0.0\n",
      "Please use `tqdm.notebook.tqdm` instead of `tqdm.tqdm_notebook`\n",
      "  for x in tqdm(range(width)):\n"
     ]
    },
    {
     "data": {
      "application/vnd.jupyter.widget-view+json": {
       "model_id": "1880d92938cd40b5bf81b0e25dcb77cc",
       "version_major": 2,
       "version_minor": 0
      },
      "text/plain": [
       "HBox(children=(HTML(value=''), FloatProgress(value=0.0, max=512.0), HTML(value='')))"
      ]
     },
     "metadata": {},
     "output_type": "display_data"
    },
    {
     "name": "stdout",
     "output_type": "stream",
     "text": [
      "\n"
     ]
    }
   ],
   "source": [
    "def Gauss_Kernel(radius: int, sigma: float):\n",
    "    size = 2*radius+1\n",
    "    kernel=[[0]*size for i in range(size)]\n",
    "    norm=0\n",
    "    for i in range(-radius,radius+1):\n",
    "        for j in range(-radius,radius+1):\n",
    "            kernel[i+radius][j+radius]=math.exp(-(i*i+j*j)/(2*sigma*sigma))\n",
    "            norm+=kernel[i+radius][j+radius]\n",
    "    for i in range(size):\n",
    "        for j in range(size):\n",
    "            kernel[i][j]/=norm\n",
    "    return kernel\n",
    "\n",
    "original = Image.open(\"Originals/lena.jpg\") #CHANGE TO ANOTHER IMAGE\n",
    "gauss=MatrixFilter(original, Gauss_Kernel(3,2))\n",
    "gauss.save(\"Filtered/Gausslena.jpg\")\n",
    "gauss.show()"
   ]
  },
  {
   "cell_type": "markdown",
   "metadata": {},
   "source": [
    "# Выделение границ"
   ]
  },
  {
   "cell_type": "code",
   "execution_count": 18,
   "metadata": {},
   "outputs": [],
   "source": [
    "def calculateNewPixelColor(image, kernel, x, y):\n",
    "    R=G=B=0\n",
    "    width, height = image.size\n",
    "    radiusX, radiusY = len(kernel[0])//2, len(kernel[1])//2\n",
    "    for k in range(-radiusX, radiusX+1, 1):\n",
    "        for l in range(-radiusY, radiusY+1, 1):\n",
    "            idX=Clamp(x+k, 0, width-1)\n",
    "            idY=Clamp(y+l, 0, height-1)\n",
    "            (r,g,b) = image.getpixel((idX,idY))\n",
    "            R += (r * kernel[k+radiusX][l+radiusY])\n",
    "            G += (g * kernel[k+radiusX][l+radiusY])\n",
    "            B += (b * kernel[k+radiusX][l+radiusY])\n",
    "    R,G,B=Clamp(R,0,255),Clamp(G,0,255),Clamp(B,0,255)\n",
    "    return (R,G,B)\n",
    "\n",
    "def CMatrixFilter(image,kernelX,kernelY):\n",
    "    im=image.copy()\n",
    "    width, height = im.size\n",
    "    kernelX=[ [-1, 0, 1], [-1, 0, 1], [-1, 0, 1]]\n",
    "    kernelY=[ [-1, -1, -1], [0, 0, 0], [1, 1, 1]]\n",
    "    for x in tqdm(range(width)):\n",
    "        for y in range(height):\n",
    "            (rx,gx,bx)=calculateNewPixelColor(image, kernelX, x, y)\n",
    "            (ry,gy,by)=calculateNewPixelColor(image, kernelY, x, y)\n",
    "            R=(rx*rx+ry*ry)**0.5\n",
    "            G=(gx*gx+gy*gy)**0.5\n",
    "            B=(bx*bx+by*by)**0.5\n",
    "            R,G,B=Clamp(R,0,255),Clamp(G,0,255),Clamp(B,0,255)\n",
    "            #print(R,G,B)\n",
    "            im.putpixel((x,y), (int(R),int(G),int(B)))\n",
    "            \n",
    "    return im"
   ]
  },
  {
   "cell_type": "code",
   "execution_count": 19,
   "metadata": {},
   "outputs": [
    {
     "name": "stderr",
     "output_type": "stream",
     "text": [
      "<ipython-input-18-4423865d08c0>:21: TqdmDeprecationWarning: This function will be removed in tqdm==5.0.0\n",
      "Please use `tqdm.notebook.tqdm` instead of `tqdm.tqdm_notebook`\n",
      "  for x in tqdm(range(width)):\n"
     ]
    },
    {
     "data": {
      "application/vnd.jupyter.widget-view+json": {
       "model_id": "730c0abce45d46f79f8296d486aa1c39",
       "version_major": 2,
       "version_minor": 0
      },
      "text/plain": [
       "HBox(children=(HTML(value=''), FloatProgress(value=0.0, max=512.0), HTML(value='')))"
      ]
     },
     "metadata": {},
     "output_type": "display_data"
    },
    {
     "name": "stdout",
     "output_type": "stream",
     "text": [
      "\n"
     ]
    },
    {
     "data": {
      "application/vnd.jupyter.widget-view+json": {
       "model_id": "fdfa28326fc74fce9f7d8b607ac2c941",
       "version_major": 2,
       "version_minor": 0
      },
      "text/plain": [
       "HBox(children=(HTML(value=''), FloatProgress(value=0.0, max=1000.0), HTML(value='')))"
      ]
     },
     "metadata": {},
     "output_type": "display_data"
    },
    {
     "name": "stdout",
     "output_type": "stream",
     "text": [
      "\n"
     ]
    }
   ],
   "source": [
    "Pruitt_kernelX=[ [-1, 0, 1], [-1, 0, 1], [-1, 0, 1]]\n",
    "Pruitt_kernelY=[ [-1, -1, -1], [0, 0, 0], [1, 1, 1]]\n",
    "\n",
    "original1 = Image.open(\"Originals/lena.jpg\") #CHANGE TO ANOTHER IMAGE\n",
    "original2 = Image.open(\"Originals/Osbruhe.jpg\")\n",
    "pruit1=CMatrixFilter(original1,Pruitt_kernelX, Pruitt_kernelY)\n",
    "pruit2=CMatrixFilter(original2, Pruitt_kernelX, Pruitt_kernelY)\n",
    "pruit1.save(\"Filtered/Pruittlena.jpg\")\n",
    "pruit2.save(\"Filtered/PruittOsbruhe.jpg\")\n",
    "pruit1.show()\n",
    "pruit2.show()"
   ]
  },
  {
   "cell_type": "code",
   "execution_count": 20,
   "metadata": {},
   "outputs": [
    {
     "name": "stderr",
     "output_type": "stream",
     "text": [
      "<ipython-input-18-4423865d08c0>:21: TqdmDeprecationWarning: This function will be removed in tqdm==5.0.0\n",
      "Please use `tqdm.notebook.tqdm` instead of `tqdm.tqdm_notebook`\n",
      "  for x in tqdm(range(width)):\n"
     ]
    },
    {
     "data": {
      "application/vnd.jupyter.widget-view+json": {
       "model_id": "4fd95fa4f1794cbf92d93e79736ffe4a",
       "version_major": 2,
       "version_minor": 0
      },
      "text/plain": [
       "HBox(children=(HTML(value=''), FloatProgress(value=0.0, max=512.0), HTML(value='')))"
      ]
     },
     "metadata": {},
     "output_type": "display_data"
    },
    {
     "name": "stdout",
     "output_type": "stream",
     "text": [
      "\n"
     ]
    },
    {
     "data": {
      "application/vnd.jupyter.widget-view+json": {
       "model_id": "8393ae10a297473aa129670943a546ab",
       "version_major": 2,
       "version_minor": 0
      },
      "text/plain": [
       "HBox(children=(HTML(value=''), FloatProgress(value=0.0, max=1000.0), HTML(value='')))"
      ]
     },
     "metadata": {},
     "output_type": "display_data"
    },
    {
     "name": "stdout",
     "output_type": "stream",
     "text": [
      "\n"
     ]
    }
   ],
   "source": [
    "Scharr_kernelX=[ [3, 0, -3], [10, 0, -10], [3, 0, -3]]\n",
    "Scharr_kernelY=[ [3, 10, 3], [0, 0, 0], [-3, -10, -3]]\n",
    "\n",
    "original1 = Image.open(\"Originals/lena.jpg\") #CHANGE TO ANOTHER IMAGE\n",
    "original2 = Image.open(\"Originals/Osbruhe.jpg\")\n",
    "Scharr1=CMatrixFilter(original1, Scharr_kernelX, Scharr_kernelY)\n",
    "Scharr2=CMatrixFilter(original2, Scharr_kernelX, Scharr_kernelY)\n",
    "Scharr1.save(\"Filtered/Sharrlena.jpg\")\n",
    "Scharr2.save(\"Filtered/SharrOsbruhe.jpg\")\n",
    "Scharr1.show()\n",
    "Scharr2.show()"
   ]
  },
  {
   "cell_type": "markdown",
   "metadata": {},
   "source": [
    "# Математическая морфология"
   ]
  },
  {
   "cell_type": "code",
   "execution_count": 4,
   "metadata": {},
   "outputs": [],
   "source": [
    "def Erosion(image, st_el):\n",
    "    radiusX, radiusY = len(st_el[0])//2, len(st_el[1])//2\n",
    "    im=image.copy()\n",
    "    width, height = image.size\n",
    "    for x in tqdm(range(radiusX,width-radiusX)):\n",
    "        for y in range(radiusY,height-radiusY):\n",
    "            Rmin=Gmin=Bmin=255\n",
    "            for k in range(-radiusX, radiusX+1, 1):\n",
    "                for l in range(-radiusY, radiusY+1, 1):\n",
    "                    (r,g,b)=image.getpixel((x+k,y+l))\n",
    "                    if st_el[k+radiusX][l+radiusY]==1:\n",
    "                        if r<Rmin:\n",
    "                            Rmin=r\n",
    "                        if g<Gmin:\n",
    "                            Gmin=g\n",
    "                        if b<Bmin:\n",
    "                            Bmin=b\n",
    "            im.putpixel((x,y), (int(Rmin),int(Gmin),int(Bmin)))\n",
    "    return im\n",
    "\n",
    "def Dilation(image, st_el):\n",
    "    radiusX, radiusY = len(st_el[0])//2, len(st_el[1])//2\n",
    "    im=image.copy()\n",
    "    width, height = image.size\n",
    "    for x in tqdm(range(radiusX,width-radiusX)):\n",
    "        for y in range(radiusY,height-radiusY):\n",
    "            Rmax=Gmax=Bmax=0\n",
    "            for k in range(-radiusX, radiusX+1, 1):\n",
    "                for l in range(-radiusY, radiusY+1, 1):\n",
    "                    (r,g,b)=image.getpixel((x+k,y+l))\n",
    "                    if st_el[k+radiusX][l+radiusY]==1:\n",
    "                        if r>Rmax:\n",
    "                            Rmax=r\n",
    "                        if g>Gmax:\n",
    "                            Gmax=g\n",
    "                        if b>Bmax:\n",
    "                            Bmax=b\n",
    "            im.putpixel((x,y), (int(Rmax),int(Gmax),int(Bmax)))\n",
    "    return im\n",
    "\n",
    "def Opening(image, st_el):\n",
    "    tmp=Erosion(image)\n",
    "    return Dilation(tmp, st_el)\n",
    "\n",
    "def Closing(image, st_el):\n",
    "    tmp=Dilation(image)\n",
    "    return Erosion(tmp, st_el)"
   ]
  },
  {
   "cell_type": "code",
   "execution_count": null,
   "metadata": {},
   "outputs": [],
   "source": [
    "def Gradient(image, st_el):\n",
    "    im=image.copy()\n",
    "    eros=Erosion(image,st_el)\n",
    "    dil=Dilation(image,st_el)\n",
    "    width, height = image.size\n",
    "    for x in tqdm(range(width)):\n",
    "        for y in range(height):\n",
    "            (re,ge,be)=eros.getpixel((x,y))\n",
    "            (rd,gd,bd)=dil.getpixel((x,y))\n",
    "            R,G,B=Clamp(rd-re,0,255),Clamp(gd-ge,0,255),Clamp(bd-be,0,255)\n",
    "            im.putpixel((x,y), (R, G, B))\n",
    "    return im\n"
   ]
  },
  {
   "cell_type": "code",
   "execution_count": null,
   "metadata": {},
   "outputs": [],
   "source": [
    "def TopHat(image, st_el):\n",
    "    im=image.copy()\n",
    "    clos=Closing(image,st_el)\n",
    "    width, height = image.size\n",
    "    for x in tqdm(range(width)):\n",
    "        for y in range(height):\n",
    "            (re,ge,be)=clos.getpixel((x,y))\n",
    "            (rd,gd,bd)=image.getpixel((x,y))\n",
    "            R,G,B=Clamp(rd-re,0,255),Clamp(gd-ge,0,255),Clamp(bd-be,0,255)\n",
    "            im.putpixel((x,y), (R, G, B))\n",
    "    return im"
   ]
  }
 ],
 "metadata": {
  "kernelspec": {
   "display_name": "Python 3",
   "language": "python",
   "name": "python3"
  },
  "language_info": {
   "codemirror_mode": {
    "name": "ipython",
    "version": 3
   },
   "file_extension": ".py",
   "mimetype": "text/x-python",
   "name": "python",
   "nbconvert_exporter": "python",
   "pygments_lexer": "ipython3",
   "version": "3.8.5"
  }
 },
 "nbformat": 4,
 "nbformat_minor": 4
}
